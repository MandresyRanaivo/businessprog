{
  "cells": [
    {
      "cell_type": "markdown",
      "metadata": {
        "id": "view-in-github",
        "colab_type": "text"
      },
      "source": [
        "<a href=\"https://colab.research.google.com/github/MandresyRanaivo/businessprog/blob/main/Input_validation.ipynb\" target=\"_parent\"><img src=\"https://colab.research.google.com/assets/colab-badge.svg\" alt=\"Open In Colab\"/></a>"
      ]
    },
    {
      "cell_type": "markdown",
      "id": "b5835b0c",
      "metadata": {
        "id": "b5835b0c"
      },
      "source": [
        "# Input Validation\n",
        "\n",
        "Input validation code verifies that user supplied data, such as text from the input() function, is formatted appropriately.\n",
        "\n",
        "* try/except\n",
        "* isdigit()\n",
        "* pyinputplus\n",
        "\n",
        "## try/except"
      ]
    },
    {
      "cell_type": "code",
      "execution_count": 5,
      "id": "695b1f5f",
      "metadata": {
        "id": "695b1f5f",
        "colab": {
          "base_uri": "https://localhost:8080/",
          "height": 131
        },
        "outputId": "6ec48b70-8ddd-4b38-c8b9-a434e76fad2d"
      },
      "outputs": [
        {
          "output_type": "error",
          "ename": "IndentationError",
          "evalue": "ignored",
          "traceback": [
            "\u001b[0;36m  File \u001b[0;32m\"<ipython-input-5-2924927b2fc2>\"\u001b[0;36m, line \u001b[0;32m7\u001b[0m\n\u001b[0;31m    print('Your age is:'+ str(age))\u001b[0m\n\u001b[0m                                   ^\u001b[0m\n\u001b[0;31mIndentationError\u001b[0m\u001b[0;31m:\u001b[0m unindent does not match any outer indentation level\n"
          ]
        }
      ],
      "source": [
        "try: \n",
        "  age = int(input('How old are you?'))\n",
        "  break\n",
        "except ValueError:\n",
        "  print('Please enter a whole number')\n",
        "\n",
        " print('Your age is:'+ str(age))\n"
      ]
    },
    {
      "cell_type": "code",
      "source": [
        ""
      ],
      "metadata": {
        "id": "cQvBN7bFfB5k"
      },
      "id": "cQvBN7bFfB5k",
      "execution_count": null,
      "outputs": []
    },
    {
      "cell_type": "markdown",
      "id": "acc7252b",
      "metadata": {
        "id": "acc7252b"
      },
      "source": [
        "## isdigit()"
      ]
    },
    {
      "cell_type": "code",
      "execution_count": 15,
      "id": "5f98c241",
      "metadata": {
        "id": "5f98c241",
        "colab": {
          "base_uri": "https://localhost:8080/",
          "height": 131
        },
        "outputId": "2fa3051e-ee32-4e1a-d31d-542ea122b00a"
      },
      "outputs": [
        {
          "output_type": "error",
          "ename": "IndentationError",
          "evalue": "ignored",
          "traceback": [
            "\u001b[0;36m  File \u001b[0;32m\"<ipython-input-15-34fe431bced8>\"\u001b[0;36m, line \u001b[0;32m7\u001b[0m\n\u001b[0;31m    print('Please enter a valid number')\u001b[0m\n\u001b[0m        ^\u001b[0m\n\u001b[0;31mIndentationError\u001b[0m\u001b[0;31m:\u001b[0m expected an indented block\n"
          ]
        }
      ],
      "source": [
        "while true:\n",
        "  try:\n",
        "   age = input('How old are you?')\n",
        "   if age.isdigit():\n",
        "      break\n",
        "   else:\n",
        "   print('Please enter a valid number')\n",
        "\n",
        " print('Your age is:'+ str(age))\n"
      ]
    },
    {
      "cell_type": "markdown",
      "id": "18c00dc3",
      "metadata": {
        "id": "18c00dc3"
      },
      "source": [
        "## Module: pyinputs"
      ]
    },
    {
      "cell_type": "code",
      "execution_count": 16,
      "id": "dfe1740b",
      "metadata": {
        "id": "dfe1740b",
        "colab": {
          "base_uri": "https://localhost:8080/"
        },
        "outputId": "bebb281b-490e-46af-e68e-05efc0f286aa"
      },
      "outputs": [
        {
          "output_type": "stream",
          "name": "stdout",
          "text": [
            "Collecting PyInputPlus\n",
            "  Downloading PyInputPlus-0.2.12.tar.gz (20 kB)\n",
            "  Installing build dependencies ... \u001b[?25l\u001b[?25hdone\n",
            "  Getting requirements to build wheel ... \u001b[?25l\u001b[?25hdone\n",
            "    Preparing wheel metadata ... \u001b[?25l\u001b[?25hdone\n",
            "Collecting stdiomask>=0.0.3\n",
            "  Downloading stdiomask-0.0.6.tar.gz (3.6 kB)\n",
            "  Installing build dependencies ... \u001b[?25l\u001b[?25hdone\n",
            "  Getting requirements to build wheel ... \u001b[?25l\u001b[?25hdone\n",
            "    Preparing wheel metadata ... \u001b[?25l\u001b[?25hdone\n",
            "Collecting pysimplevalidate>=0.2.7\n",
            "  Downloading PySimpleValidate-0.2.12.tar.gz (22 kB)\n",
            "  Installing build dependencies ... \u001b[?25l\u001b[?25hdone\n",
            "  Getting requirements to build wheel ... \u001b[?25l\u001b[?25hdone\n",
            "    Preparing wheel metadata ... \u001b[?25l\u001b[?25hdone\n",
            "Building wheels for collected packages: PyInputPlus, pysimplevalidate, stdiomask\n",
            "  Building wheel for PyInputPlus (PEP 517) ... \u001b[?25l\u001b[?25hdone\n",
            "  Created wheel for PyInputPlus: filename=PyInputPlus-0.2.12-py3-none-any.whl size=11315 sha256=a0f32024d5b5dc6cca9f8124e5d541536dd561750dd763f79bc18d50d1fb09cd\n",
            "  Stored in directory: /root/.cache/pip/wheels/e7/33/73/719f8f1bd984d39face880fd22f6c5ef1b85f726e84c687094\n",
            "  Building wheel for pysimplevalidate (PEP 517) ... \u001b[?25l\u001b[?25hdone\n",
            "  Created wheel for pysimplevalidate: filename=PySimpleValidate-0.2.12-py3-none-any.whl size=16193 sha256=eccbdffac739d8a7c2dbc8e59dffd08fd2a860f119314e8c2c89523b9ce6c267\n",
            "  Stored in directory: /root/.cache/pip/wheels/5a/8b/6c/2925d22b93860bdc9b8ce02c3d2cf79336606f7469cef66065\n",
            "  Building wheel for stdiomask (PEP 517) ... \u001b[?25l\u001b[?25hdone\n",
            "  Created wheel for stdiomask: filename=stdiomask-0.0.6-py3-none-any.whl size=3321 sha256=0ad341b04a5339ea93f020e21924be16208d074c8479df7025fc9788875be942\n",
            "  Stored in directory: /root/.cache/pip/wheels/cf/13/89/64d0d3b167759523f4c1e68f883bbc30e7bfa27050edeb418e\n",
            "Successfully built PyInputPlus pysimplevalidate stdiomask\n",
            "Installing collected packages: stdiomask, pysimplevalidate, PyInputPlus\n",
            "Successfully installed PyInputPlus-0.2.12 pysimplevalidate-0.2.12 stdiomask-0.0.6\n"
          ]
        }
      ],
      "source": [
        "#intall the module\n",
        "!pip install PyInputPlus"
      ]
    },
    {
      "cell_type": "code",
      "source": [
        "import PyInputPlus as pyip\n",
        "\n",
        "age = pyip.inputNum(prompt = \"How old are you\" , greaterThan=10)\n",
        "print()\n",
        "print('Your age is:'+ str(age))"
      ],
      "metadata": {
        "id": "OvqPitIkh379",
        "colab": {
          "base_uri": "https://localhost:8080/",
          "height": 374
        },
        "outputId": "f108e0ef-b9c3-430b-b06a-8d8aa0327fd0"
      },
      "id": "OvqPitIkh379",
      "execution_count": 23,
      "outputs": [
        {
          "output_type": "error",
          "ename": "ModuleNotFoundError",
          "evalue": "ignored",
          "traceback": [
            "\u001b[0;31m---------------------------------------------------------------------------\u001b[0m",
            "\u001b[0;31mModuleNotFoundError\u001b[0m                       Traceback (most recent call last)",
            "\u001b[0;32m<ipython-input-23-35982c675bfd>\u001b[0m in \u001b[0;36m<module>\u001b[0;34m()\u001b[0m\n\u001b[0;32m----> 1\u001b[0;31m \u001b[0;32mimport\u001b[0m \u001b[0mPyInputPlus\u001b[0m \u001b[0;32mas\u001b[0m \u001b[0mpyip\u001b[0m\u001b[0;34m\u001b[0m\u001b[0;34m\u001b[0m\u001b[0m\n\u001b[0m\u001b[1;32m      2\u001b[0m \u001b[0;34m\u001b[0m\u001b[0m\n\u001b[1;32m      3\u001b[0m \u001b[0mage\u001b[0m \u001b[0;34m=\u001b[0m \u001b[0mpyip\u001b[0m\u001b[0;34m.\u001b[0m\u001b[0minputNum\u001b[0m\u001b[0;34m(\u001b[0m\u001b[0mprompt\u001b[0m \u001b[0;34m=\u001b[0m \u001b[0;34m\"How old are you\"\u001b[0m \u001b[0;34m,\u001b[0m \u001b[0mgreaterThan\u001b[0m\u001b[0;34m=\u001b[0m\u001b[0;36m10\u001b[0m\u001b[0;34m)\u001b[0m\u001b[0;34m\u001b[0m\u001b[0;34m\u001b[0m\u001b[0m\n\u001b[1;32m      4\u001b[0m \u001b[0mprint\u001b[0m\u001b[0;34m(\u001b[0m\u001b[0;34m)\u001b[0m\u001b[0;34m\u001b[0m\u001b[0;34m\u001b[0m\u001b[0m\n\u001b[1;32m      5\u001b[0m \u001b[0mprint\u001b[0m\u001b[0;34m(\u001b[0m\u001b[0;34m'Your age is:'\u001b[0m\u001b[0;34m+\u001b[0m \u001b[0mstr\u001b[0m\u001b[0;34m(\u001b[0m\u001b[0mage\u001b[0m\u001b[0;34m)\u001b[0m\u001b[0;34m)\u001b[0m\u001b[0;34m\u001b[0m\u001b[0;34m\u001b[0m\u001b[0m\n",
            "\u001b[0;31mModuleNotFoundError\u001b[0m: No module named 'PyInputPlus'",
            "",
            "\u001b[0;31m---------------------------------------------------------------------------\u001b[0;32m\nNOTE: If your import is failing due to a missing package, you can\nmanually install dependencies using either !pip or !apt.\n\nTo view examples of installing some common dependencies, click the\n\"Open Examples\" button below.\n\u001b[0;31m---------------------------------------------------------------------------\u001b[0m\n"
          ],
          "errorDetails": {
            "actions": [
              {
                "action": "open_url",
                "actionText": "Open Examples",
                "url": "/notebooks/snippets/importing_libraries.ipynb"
              }
            ]
          }
        }
      ]
    },
    {
      "cell_type": "code",
      "source": [
        ""
      ],
      "metadata": {
        "id": "BSY3chdWieP1"
      },
      "id": "BSY3chdWieP1",
      "execution_count": null,
      "outputs": []
    }
  ],
  "metadata": {
    "kernelspec": {
      "display_name": "Python 3 (ipykernel)",
      "language": "python",
      "name": "python3"
    },
    "language_info": {
      "codemirror_mode": {
        "name": "ipython",
        "version": 3
      },
      "file_extension": ".py",
      "mimetype": "text/x-python",
      "name": "python",
      "nbconvert_exporter": "python",
      "pygments_lexer": "ipython3",
      "version": "3.9.6"
    },
    "colab": {
      "name": "Input_validation.ipynb",
      "provenance": [],
      "include_colab_link": true
    }
  },
  "nbformat": 4,
  "nbformat_minor": 5
}
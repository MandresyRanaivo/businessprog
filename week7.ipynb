{
  "nbformat": 4,
  "nbformat_minor": 0,
  "metadata": {
    "colab": {
      "name": "week7",
      "provenance": [],
      "collapsed_sections": [],
      "authorship_tag": "ABX9TyMCiwobjiTBPVejnXs4Lmji",
      "include_colab_link": true
    },
    "kernelspec": {
      "name": "python3",
      "display_name": "Python 3"
    },
    "language_info": {
      "name": "python"
    }
  },
  "cells": [
    {
      "cell_type": "markdown",
      "metadata": {
        "id": "view-in-github",
        "colab_type": "text"
      },
      "source": [
        "<a href=\"https://colab.research.google.com/github/MandresyRanaivo/businessprog/blob/main/week7.ipynb\" target=\"_parent\"><img src=\"https://colab.research.google.com/assets/colab-badge.svg\" alt=\"Open In Colab\"/></a>"
      ]
    },
    {
      "cell_type": "code",
      "execution_count": 28,
      "metadata": {
        "colab": {
          "base_uri": "https://localhost:8080/",
          "height": 357
        },
        "id": "rZ4AZ7Ik8VsC",
        "outputId": "da0e6685-6726-48aa-ae45-900d004923a7"
      },
      "outputs": [
        {
          "output_type": "stream",
          "name": "stdout",
          "text": [
            " please enter the number of villagers...4\n",
            "<class 'int'>\n",
            "enter position...7\n",
            "enter position...2\n",
            "enter position...0\n",
            "enter position...3\n",
            "['0', '2', '3', '7']\n"
          ]
        },
        {
          "output_type": "error",
          "ename": "ValueError",
          "evalue": "ignored",
          "traceback": [
            "\u001b[0;31m---------------------------------------------------------------------------\u001b[0m",
            "\u001b[0;31mValueError\u001b[0m                                Traceback (most recent call last)",
            "\u001b[0;32m<ipython-input-28-5b1f5569f612>\u001b[0m in \u001b[0;36m<module>\u001b[0;34m()\u001b[0m\n\u001b[1;32m     28\u001b[0m \u001b[0;34m\u001b[0m\u001b[0m\n\u001b[1;32m     29\u001b[0m \u001b[0;34m\u001b[0m\u001b[0m\n\u001b[0;32m---> 30\u001b[0;31m print(\"The min village size is\", min(sizelist)\n\u001b[0m\u001b[1;32m     31\u001b[0m \u001b[0;34m\u001b[0m\u001b[0m\n\u001b[1;32m     32\u001b[0m \u001b[0;34m\u001b[0m\u001b[0m\n",
            "\u001b[0;31mValueError\u001b[0m: min() arg is an empty sequence"
          ]
        }
      ],
      "source": [
        "def validate(num):\n",
        "  try:\n",
        "    value = int(num)\n",
        "  except ValueError:\n",
        "    print(\"the value you entered is not an integer...\")\n",
        "\n",
        "\n",
        "\n",
        "\n",
        "\n",
        "no_village = int(input(\" please enter the number of villagers...\"))\n",
        "validate(no_village)  \n",
        "v_pos = []\n",
        "print(type(no_village))\n",
        "for i in range (0,no_village):\n",
        "  position = input(\"enter position...\")\n",
        "  v_pos.append(position)\n",
        "  \n",
        "\n",
        "v_pos.sort()\n",
        "print(v_pos)\n",
        "sizelist = []\n",
        "for i in range(1,i<no_village):\n",
        "  left = v_pos[i] - v_pos[i-1]\n",
        "  right = v_pos[i+1] - v_pos[i]\n",
        "  size = (left + right)/2\n",
        "  sizelist.append(size)\n",
        "\n",
        "\n",
        "print(\"The min village size is\", min(sizelist)\n",
        "\n",
        "\n",
        "\n",
        "q)\n",
        "\n"
      ]
    }
  ]
}
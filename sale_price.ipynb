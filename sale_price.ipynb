{
  "nbformat": 4,
  "nbformat_minor": 0,
  "metadata": {
    "colab": {
      "name": "sale_price.ipynb",
      "provenance": [],
      "include_colab_link": true
    },
    "kernelspec": {
      "name": "python3",
      "display_name": "Python 3"
    },
    "language_info": {
      "name": "python"
    }
  },
  "cells": [
    {
      "cell_type": "markdown",
      "metadata": {
        "id": "view-in-github",
        "colab_type": "text"
      },
      "source": [
        "<a href=\"https://colab.research.google.com/github/MandresyRanaivo/businessprog/blob/main/sale_price.ipynb\" target=\"_parent\"><img src=\"https://colab.research.google.com/assets/colab-badge.svg\" alt=\"Open In Colab\"/></a>"
      ]
    },
    {
      "cell_type": "markdown",
      "metadata": {
        "id": "cgTeiXOtSPjH"
      },
      "source": [
        "# Sales Price\n",
        "\n",
        "A local department store needs to develop a program that will computer the total price (including goods and services tax) of the item on sale when given an item's original price and discount percentage.\n",
        "\n",
        "## Tasks\n",
        "* Save to Github\n",
        "* Design Algorithm\n",
        "* Write and test the program in Python"
      ]
    },
    {
      "cell_type": "code",
      "source": [
        ""
      ],
      "metadata": {
        "id": "HbNuu5OIF-bC"
      },
      "execution_count": null,
      "outputs": []
    },
    {
      "cell_type": "code",
      "source": [
        "def calculate_total(origprice, disc, salestax): \n",
        "    disc = origprice-(origprice*disc)\n",
        "    taxamount = salestax *disc\n",
        "    ttalprice = disc + taxamount\n",
        "    print('Total Price is', ttalprice)\n",
        "    print('Discount is', disc)\n",
        "    print('Tax is', salestax)\n",
        "\n",
        "calculate_total(40, 0.3, 0.07)\n"
      ],
      "metadata": {
        "id": "lzPUEuMQGplI",
        "outputId": "9f36e8d8-4880-48dc-811d-2c77a5d8e18f",
        "colab": {
          "base_uri": "https://localhost:8080/"
        }
      },
      "execution_count": 13,
      "outputs": [
        {
          "output_type": "stream",
          "name": "stdout",
          "text": [
            "Total Price is 29.96\n",
            "Discount is 28.0\n",
            "Tax is 0.07\n"
          ]
        }
      ]
    },
    {
      "cell_type": "markdown",
      "source": [
        "Original price: $40\n",
        "Discount: 30%\n",
        "Sales tax: 7%\n",
        "\n",
        "Total price: 29.96"
      ],
      "metadata": {
        "id": "6kMrM9HzFf8Q"
      }
    }
  ]
}
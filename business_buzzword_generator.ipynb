{
  "cells": [
    {
      "cell_type": "markdown",
      "metadata": {
        "id": "view-in-github",
        "colab_type": "text"
      },
      "source": [
        "<a href=\"https://colab.research.google.com/github/MandresyRanaivo/businessprog/blob/main/business_buzzword_generator.ipynb\" target=\"_parent\"><img src=\"https://colab.research.google.com/assets/colab-badge.svg\" alt=\"Open In Colab\"/></a>"
      ]
    },
    {
      "cell_type": "markdown",
      "id": "f8b21259-c1a0-4ecb-a02f-e35565841067",
      "metadata": {
        "id": "f8b21259-c1a0-4ecb-a02f-e35565841067"
      },
      "source": [
        "# Business Buzzword Generator\n",
        "\n",
        "Lets write a real-world business-like application using Python!\n",
        "\n",
        "Want to write a program to generate business phrases.  These could be used as\n",
        "title for presentation, podcast, video, article or just for fun.\n",
        "\n",
        "## Task 0 - Import to GitHub\n",
        "\n",
        "In a browser:\n",
        "* Login to Google\n",
        "* Login to GitHub\n",
        "* Import notebook into Colab\n",
        "* Save to GitHub. Don't forget the commit message.\n",
        "* Complete the tasks saving regularly to GitHub\n",
        "\n",
        "## Task 1 - Convert to Python!\n",
        "\n",
        "As you go through the task, keep in mind our 5-step development process:\n",
        "* State the Problem Clearly\n",
        "* Describe the input and Output\n",
        "* Work a simple example by hand\n",
        "* Develop an algorithm (and convert to Python)\n",
        "* Test solution with a variety of data\n",
        "\n",
        "For this notebook, steps 1-4 have been completed and you only need to convert \n",
        "the supplied pseudocode into Python.\n",
        "\n",
        "The program uses three lists of words. Randomly picks one word from each list \n",
        "and combines the words into a phrase.  Then print out the phrase. Here is \n",
        "the pseudocode:\n",
        "\n",
        "    importing the random module\n",
        "    make three lists, one of buzzword, one of actions, and one of outcomes\n",
        "    randomly choose one buzzword, action, and outcome from each list\n",
        "    now build the phrase by \"adding\" the words together\n",
        "    output the phrase\n",
        "\n",
        "\n",
        "A good way to use pseudocode is make each line(s) a comment(s) in the code. \n",
        "\n",
        "Each line of pseudo code has been pasted into a cell below.  \n",
        "\n",
        "Try to implement each as python statement or statements."
      ]
    },
    {
      "cell_type": "code",
      "execution_count": null,
      "id": "6b9a2fc6-f8ae-4778-a5e7-9659136091fd",
      "metadata": {
        "id": "6b9a2fc6-f8ae-4778-a5e7-9659136091fd"
      },
      "outputs": [],
      "source": [
        "# importing the random module\n",
        "import random"
      ]
    },
    {
      "cell_type": "code",
      "source": [
        "listbuzzword=[\"Realise\", \"Create\", \"Learn\"]\n",
        "listactions=[\"Effective\", \"Appealing\", \"Professional\"]\n",
        "listoutcome= [\"Drawing\", \"Presentation\", \"Coding\"]\n",
        "\n",
        "buzzwor = random.choice(listbuzzword)\n",
        "actio= random.choice(listactions)\n",
        "outcom= random.choice(listoutcome)\n",
        "\n",
        "phase= buzzwor+\" \"+actio+\" \"+outcom +\".\"\n",
        "print(phase)"
      ],
      "metadata": {
        "colab": {
          "base_uri": "https://localhost:8080/"
        },
        "id": "teTFmqUvJi60",
        "outputId": "8c0fe5cf-db02-4e9f-85a2-7ad10f5a6ad0"
      },
      "id": "teTFmqUvJi60",
      "execution_count": null,
      "outputs": [
        {
          "output_type": "stream",
          "name": "stdout",
          "text": [
            "Create Effective Coding.\n"
          ]
        }
      ]
    },
    {
      "cell_type": "code",
      "execution_count": null,
      "id": "52db4e24-c2e3-46f2-8a96-0fece1f437f2",
      "metadata": {
        "colab": {
          "base_uri": "https://localhost:8080/"
        },
        "id": "52db4e24-c2e3-46f2-8a96-0fece1f437f2",
        "outputId": "69d82388-b95a-4055-e6ec-b29404f38919"
      },
      "outputs": [
        {
          "output_type": "stream",
          "name": "stdout",
          "text": [
            "War is popular in the entire world.\n"
          ]
        }
      ],
      "source": [
        "#  make three lists, one of buzzwords, one of actions, and one of outcomes\n",
        "buzzword = [\"Covid19\" , \"War\", \"Technology\"]\n",
        "actions = [\"advances\",\"is popular\", \"is interesting nowadays\"]\n",
        "outcome = [\"thanks to development\", \"with people\", \"in the entire world\"]\n",
        "\n",
        "# randomly choose one buzzword, action, and outcome from each list\n",
        "buzz = random.choice(buzzword)\n",
        "act = random.choice(actions)\n",
        "out = random.choice(outcome)\n",
        "\n",
        "# build the phrase by \"adding\" the words together\n",
        "phase= buzz + \" \"+ act+ \" \"+ out+\".\"\n",
        "\n",
        "# output the phrase\n",
        "print(phase)"
      ]
    },
    {
      "cell_type": "markdown",
      "id": "5c5d439f",
      "metadata": {
        "id": "5c5d439f"
      },
      "source": [
        "## Task 2 (Optional) - Phrase Generator\n",
        "\n",
        "This task is optional.  For this task, lets think about way we could extend\n",
        "the program.  Here are some question to think about.  No Python code is needed.\n",
        "Thinking is probably enough, but if you want you can write a couple of \n",
        "sentences on what you think is required.\n",
        "* Can it be modified to generate other types of phrases? How about three lists of ingredients, and generate simple recipes? How about and idea or project generator?\n",
        "* Why limit it to three words?  \n",
        "* Does the order of the words matter?\n",
        "* Could we create sentences? If we create sentences, could we combine them to create paragraphs? Could we specify a topic, and have the program write an essay? Would this make it 'smart'?\n"
      ]
    },
    {
      "cell_type": "markdown",
      "source": [
        "\n",
        "\n",
        "*   Yes it is possible. Create a list of combination of your ingredients and create a simple recipes. \n",
        "*   No words limit, you can add all you need. \n",
        "*   Yesnit must make sense. \n",
        "*   Yes.\n",
        "\n",
        "\n",
        "\n"
      ],
      "metadata": {
        "id": "Dw8suzgWNS1l"
      },
      "id": "Dw8suzgWNS1l"
    }
  ],
  "metadata": {
    "kernelspec": {
      "display_name": "Python 3 (ipykernel)",
      "language": "python",
      "name": "python3"
    },
    "language_info": {
      "codemirror_mode": {
        "name": "ipython",
        "version": 3
      },
      "file_extension": ".py",
      "mimetype": "text/x-python",
      "name": "python",
      "nbconvert_exporter": "python",
      "pygments_lexer": "ipython3",
      "version": "3.9.6"
    },
    "colab": {
      "name": "business_buzzword_generator.ipynb",
      "provenance": [],
      "include_colab_link": true
    }
  },
  "nbformat": 4,
  "nbformat_minor": 5
}